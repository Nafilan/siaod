{
 "cells": [
  {
   "cell_type": "markdown",
   "id": "arctic-stocks",
   "metadata": {},
   "source": [
    "### Задание №1\n",
    "Массив A состоит из целых положительных чисел длин отрезков. Составьте из трех отрезков такой треугольник, чтобы его периметр был максимально возможным. Если невозможно составить треугольник с положительной площадью функция возвращает 0."
   ]
  },
  {
   "cell_type": "code",
   "execution_count": 2,
   "id": "caring-truck",
   "metadata": {
    "scrolled": false
   },
   "outputs": [
    {
     "name": "stdout",
     "output_type": "stream",
     "text": [
      "10 5 2 3 9 4 2 3 4 7\n",
      "[10, 9, 7]\n"
     ]
    }
   ],
   "source": [
    "def tri():\n",
    "    user_input = input().strip().replace(\"  \", \" \").split(\" \")\n",
    "    arr = [int(el) for el in user_input]\n",
    "    p = 0\n",
    "    if len(arr) < 3:\n",
    "        return 0\n",
    "    arr.sort()\n",
    "    j = len(arr) - 1\n",
    "    while j > 1:\n",
    "        a = arr[j]\n",
    "        b = arr[j - 1]\n",
    "        c = arr[j - 2]\n",
    "        if (b + c) > a:\n",
    "            p = a + b + c\n",
    "            return [a, b, c]\n",
    "        j -= 1\n",
    "    return 0\n",
    "\n",
    "print(tri())"
   ]
  },
  {
   "cell_type": "markdown",
   "id": "maritime-conversation",
   "metadata": {},
   "source": [
    "### Задание №2\n",
    "Дан массив неотрицательных целых чисел nums. Расположите их в таком порядке, чтобы вместе они образовали максимально возможное число. Замечание: Результат может быть очень большим числом, поэтому представьте его как string, а не integer."
   ]
  },
  {
   "cell_type": "code",
   "execution_count": 25,
   "id": "alert-charm",
   "metadata": {
    "scrolled": false
   },
   "outputs": [
    {
     "name": "stdout",
     "output_type": "stream",
     "text": [
      "9 87 85 998 550 789 543 5 7 \n",
      "9998878578975550543\n"
     ]
    }
   ],
   "source": [
    "def big_Number():\n",
    "    user_input = input().strip().replace(\"  \", \" \").split(\" \")\n",
    "    arr = []\n",
    "    result = \"\"\n",
    "    l = len(str(max(user_input))) + 1\n",
    "      \n",
    "\n",
    "    for i in user_input:\n",
    "        temp = str(i) * l\n",
    "        arr.append((temp[:l:], i))\n",
    "      \n",
    "    arr.sort(reverse = True)\n",
    "      \n",
    "    \n",
    "    for i in arr:\n",
    "        result += str(i[1])\n",
    "  \n",
    "    if int(result)==0:\n",
    "        return \"0\"\n",
    "    return result\n",
    "    \n",
    "    \n",
    "print(big_Number())"
   ]
  },
  {
   "cell_type": "markdown",
   "id": "catholic-roots",
   "metadata": {},
   "source": [
    "### Задание №3\n",
    "Дана матрица mat размером m * n, значения целочисленные. Напишите функцию, сортирующую каждую диагональ матрицы по возрастанию и возвращающую получившуюся матрицу."
   ]
  },
  {
   "cell_type": "code",
   "execution_count": 22,
   "id": "cleared-anniversary",
   "metadata": {
    "scrolled": false
   },
   "outputs": [
    {
     "name": "stdout",
     "output_type": "stream",
     "text": [
      "2 3 4\n",
      "3 7 4\n",
      "2 7 7\n",
      "0 6 9\n",
      "7 3 9\n",
      "9 9 8\n"
     ]
    }
   ],
   "source": [
    "def printMat(mat):\n",
    "    for line in mat:\n",
    "        out = [str(el) for el in line]\n",
    "        print(\" \".join(out))\n",
    "\n",
    "\n",
    "def mat_sort(mat):\n",
    "    m = len(mat)\n",
    "    n = len(mat[0])\n",
    "    result = [[0 for j in range(n)] for i in range(m)]\n",
    "    if m > n:\n",
    "        for i in range(m - 1, -1, -1):\n",
    "            temp = []\n",
    "            j = 0\n",
    "            while (i + j < m) & (j < n):\n",
    "                temp.append(mat[i + j][j])\n",
    "                j += 1\n",
    "            temp.sort()\n",
    "            j = 0\n",
    "            while (i + j < m) & (j < n):\n",
    "                result[i + j][j] = temp[j]\n",
    "                j += 1\n",
    "        for i in range(1, n):\n",
    "            temp = []\n",
    "            j = 0\n",
    "            while (i + j < n) & (j < m):\n",
    "                temp.append(mat[j][i + j])\n",
    "                j += 1\n",
    "            temp.sort()\n",
    "            j = 0\n",
    "            while (i + j < n) & (j < m):\n",
    "                result[j][i + j] = temp[j]\n",
    "                j += 1\n",
    "\n",
    "    else:\n",
    "        for i in range(m - 1, -1, -1):\n",
    "            temp = []\n",
    "            j = 0\n",
    "            while (i + j < m) & (j < m):\n",
    "                temp.append(mat[i + j][j])\n",
    "                j += 1\n",
    "            temp.sort()\n",
    "            j = 0\n",
    "            while (i + j < m) & (j < m):\n",
    "                result[i + j][j] = temp[j]\n",
    "                j += 1\n",
    "        for i in range(1, n):\n",
    "            temp = []\n",
    "            j = 0\n",
    "            while (i + j < n) & (j < m):\n",
    "                temp.append(mat[j][i + j])\n",
    "                j += 1\n",
    "            temp.sort()\n",
    "            j = 0\n",
    "            while (i + j < n) & (j < m):\n",
    "                result[j][i + j] = temp[j]\n",
    "                j += 1\n",
    "    return result\n",
    "\n",
    "mat = [[2,3,4],[9,7,4],[6,3,7],[8,2,7],[7,3,9],[9,9,0]]\n",
    "mat_wide = [[2,3,4,5,6], [9,7,4,1,8], [6,3,7,4,8]]\n",
    "printMat(mat_sort(mat))\n"
   ]
  },
  {
   "cell_type": "code",
   "execution_count": null,
   "id": "63a975f3",
   "metadata": {},
   "outputs": [],
   "source": []
  }
 ],
 "metadata": {
  "kernelspec": {
   "display_name": "Python 3 (ipykernel)",
   "language": "python",
   "name": "python3"
  },
  "language_info": {
   "codemirror_mode": {
    "name": "ipython",
    "version": 3
   },
   "file_extension": ".py",
   "mimetype": "text/x-python",
   "name": "python",
   "nbconvert_exporter": "python",
   "pygments_lexer": "ipython3",
   "version": "3.9.7"
  }
 },
 "nbformat": 4,
 "nbformat_minor": 5
}
