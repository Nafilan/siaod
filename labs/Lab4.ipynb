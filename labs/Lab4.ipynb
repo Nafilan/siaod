{
 "cells": [
  {
   "cell_type": "markdown",
   "id": "fifteen-sailing",
   "metadata": {},
   "source": [
    "# Лабораторная работа №4\n",
    "## Выполнил студент группы Лесных Михаил Андреевич БВТ2005"
   ]
  },
  {
   "cell_type": "markdown",
   "id": "arctic-stocks",
   "metadata": {},
   "source": [
    "Реализовать следующие структуры данных:\n",
    "  \n",
    "● <b> Стек (stack): </b>  \n",
    "Операции для стека: \n",
    "<i> инициализация, проверка на пустоту, добавление нового элемента в начало, извлечение элемента из начала;  </i>  \n",
    "  \n",
    "● <b> Дек (двусторонняя очередь, deque):  </b>  \n",
    "Операции для дека: \n",
    "<i> инициализация, проверка на пустоту, добавление нового элемента в начало, добавление нового элемента в конец, извлечение элемента из начала, извлечение элемента из конца. </i>  \n",
    "  \n",
    "<i> Разработать программу обработки данных, содержащихся в заранее подготовленном txt-файле, в соответствии с заданиями, применив указанную в задании структуру данных. Результат работы программы вывести на экран и сохранить в отдельном txt-файле. </i>"
   ]
  },
  {
   "cell_type": "code",
   "execution_count": 68,
   "id": "fd11a58f",
   "metadata": {},
   "outputs": [],
   "source": [
    "class stack():\n",
    "    def __init__(self, input = []):\n",
    "        self.stack = input\n",
    "    def is_empty(self):\n",
    "        return False if len(self.stack) else True\n",
    "    def append(self, item):\n",
    "        self.stack.append(item)\n",
    "    def pop(self):\n",
    "        return self.stack.pop()\n",
    "    def __str__(self):\n",
    "        result = \"\"\n",
    "        for el in self.stack:\n",
    "            result += str(el) + \" \"\n",
    "        return \"[\" + result[:-1] + \"]\"\n",
    "\n",
    "class deque():\n",
    "    def __init__(self, input = []):\n",
    "        self.deque = input\n",
    "    def is_empty(self):\n",
    "        return False if len(self.deque) else True\n",
    "    def append_l(self, item):\n",
    "        self.deque.insert(0, item)\n",
    "    def append_r(self, item):\n",
    "        self.deque.append(item)\n",
    "    def pop_l(self):\n",
    "        return self.deque.pop(0)\n",
    "    def pop_r(self):\n",
    "        return self.deque.pop()\n",
    "    def __str__(self):\n",
    "        result = \"\"\n",
    "        for el in self.deque:\n",
    "            result += str(el) + \" \"\n",
    "        return \"[\" + result[:-1] + \"]\""
   ]
  },
  {
   "attachments": {
    "image-2.png": {
     "image/png": "[encoded data removed]"
    }
   },
   "cell_type": "markdown",
   "id": "5d7edb08",
   "metadata": {
    "scrolled": true
   },
   "source": [
    "### Задание №1\n",
    "Отсортировать строки файла, содержащие названия книг, в алфавитном порядке с использованием двух деков.\n",
    "![image-2.png](attachment:image-2.png)\n"
   ]
  },
  {
   "cell_type": "code",
   "execution_count": 69,
   "id": "17702ade",
   "metadata": {},
   "outputs": [],
   "source": [
    "def func(input):\n",
    "    deq1 = deque([])\n",
    "    deq2 = deque([])\n",
    "    if len(input) == 0:\n",
    "        return []\n",
    "    deq1.append_l(input[0])\n",
    "    for i in range(1, len(input)):\n",
    "        temp1 = deq1.pop_l()\n",
    "        if input[i] <= temp1:\n",
    "            deq1.append_l(temp1)\n",
    "            deq1.append_l(input[i])\n",
    "            continue\n",
    "        deq1.append_l(temp1)\n",
    "        temp2 = deq1.pop_r()\n",
    "        if input[i] >= temp2:\n",
    "            deq1.append_r(temp2)\n",
    "            deq1.append_r(input[i])\n",
    "            continue\n",
    "        deq1.append_r(temp2)\n",
    "        temp = deq1.pop_l()\n",
    "        while input[i] >= temp:\n",
    "            deq2.append_r(temp)\n",
    "            temp = deq1.pop_l()\n",
    "        deq1.append_l(temp)\n",
    "        deq1.append_l(input[i])\n",
    "        while deq2.is_empty() is False:\n",
    "            deq1.append_l(deq2.pop_r())\n",
    "    return deq1.deque\n",
    "\n",
    "try:\n",
    "    with open(\"task1.txt\", \"r\", encoding = \"utf-8\") as file:\n",
    "        temp = []\n",
    "        for line in file:\n",
    "            temp.append(line)\n",
    "        temp[-1] += \"\\n\"\n",
    "        result = func(temp)\n",
    "except FileNotFoundError:\n",
    "    print(\"No File\")\n",
    "try:\n",
    "    with open(\"out1.txt\", \"w\", encoding = \"utf-8\") as file:\n",
    "        file.writelines(result)\n",
    "except:\n",
    "    print(\"Error\")"
   ]
  },
  {
   "attachments": {
    "image-2.png": {
     "image/png": "[encoded data removed]"
    },
    "image-3.png": {
     "image/png": "[encoded data removed]"
    }
   },
   "cell_type": "markdown",
   "id": "49fbd2a0",
   "metadata": {},
   "source": [
    "![image-2.png](attachment:image-2.png)\n",
    "### Задание №2\n",
    "Дек содержит последовательность символов для шифровки сообщений. Дан текстовый файл, содержащий зашифрованное сообщение. Пользуясь деком, расшифровать текст. \n",
    "Известно, что при шифровке каждый символ сообщения заменялся следующим за ним в деке по часовой стрелке через один.\n",
    "![image-3.png](attachment:image-3.png)"
   ]
  },
  {
   "cell_type": "code",
   "execution_count": 70,
   "id": "81cab7a8",
   "metadata": {},
   "outputs": [],
   "source": [
    "deq = deque(['a', 'b', 'c', 'd', 'e', 'x', 'y', 'z'])\n",
    "def func(input):\n",
    "    result = \"\"\n",
    "    for el in input:\n",
    "        temp_stack = stack([])\n",
    "        temp = deq.pop_l()\n",
    "        i = 1\n",
    "        while el != temp:\n",
    "            temp_stack.append(temp)\n",
    "            temp = deq.pop_l()       \n",
    "        if temp_stack.is_empty():\n",
    "            deq.append_l(temp)\n",
    "            temp_stack.append(deq.pop_r())\n",
    "            temp = deq.pop_r()\n",
    "            result += temp\n",
    "            deq.append_r(temp)\n",
    "            deq.append_r(temp_stack.pop())\n",
    "        elif len(temp_stack.stack) == 1:\n",
    "            deq.append_l(temp)\n",
    "            deq.append_l(temp_stack.pop())\n",
    "            temp = deq.pop_r()\n",
    "            result += temp\n",
    "            deq.append_r(temp)\n",
    "        else:\n",
    "            deq.append_l(temp)\n",
    "            temp2 = temp_stack.pop()\n",
    "            temp = temp_stack.pop()\n",
    "            result += temp\n",
    "            deq.append_l(temp2)\n",
    "            deq.append_l(temp)\n",
    "            while temp_stack.is_empty() is False:\n",
    "                deq.append_l(temp_stack.pop())\n",
    "    return result\n",
    "\n",
    "result = []\n",
    "try:\n",
    "    with open(\"task2.txt\", \"r\", encoding = \"utf-8\") as file:\n",
    "        for line in file:\n",
    "            result.append(func(line))\n",
    "            \n",
    "except FileNotFoundError:\n",
    "    print(\"No File\")\n",
    "\n",
    "try:\n",
    "    with open(\"out2.txt\", \"w\", encoding = \"utf-8\") as file:\n",
    "        for line in result:\n",
    "            file.write(line)\n",
    "except:\n",
    "    print(\"Error\")"
   ]
  },
  {
   "attachments": {
    "image-2.png": {
     "image/png": "[encoded data removed]"
    },
    "image.png": {
     "image/png": "[encoded data removed]"
    }
   },
   "cell_type": "markdown",
   "id": "c0894f47",
   "metadata": {},
   "source": [
    "![image.png](attachment:image.png)\n",
    "### Задание №3\n",
    "Даны три стержня и n дисков различного размера. Диски можно надевать на стержни, образуя из них башни. Перенести n дисков со стержня А на стержень С, сохранив их первоначальный порядок. При переносе дисков необходимо соблюдать следующие правила:\n",
    "- на каждом шаге со стержня на стержень переносить только один диск;\n",
    "- диск нельзя помещать на диск меньшего размера;\n",
    "- для промежуточного хранения можно использовать стержень В.\n",
    "Реализовать алгоритм, используя три стека вместо стержней А, В, С. Информация о дисках хранится в исходном файле.\n",
    "![image-2.png](attachment:image-2.png)"
   ]
  },
  {
   "cell_type": "code",
   "execution_count": 71,
   "id": "9e91a9d4",
   "metadata": {},
   "outputs": [
    {
     "name": "stdout",
     "output_type": "stream",
     "text": [
      "Move from 1 to 2\n",
      "Move from 1 to 3\n",
      "Move from 2 to 3\n",
      "Move from 1 to 2\n",
      "Move from 3 to 1\n",
      "Move from 3 to 2\n",
      "Move from 1 to 2\n",
      "Move from 1 to 3\n",
      "Move from 2 to 3\n",
      "Move from 2 to 1\n",
      "Move from 3 to 1\n",
      "Move from 2 to 3\n",
      "Move from 1 to 2\n",
      "Move from 1 to 3\n",
      "Move from 2 to 3\n",
      "Move from 1 to 2\n",
      "Move from 3 to 1\n",
      "Move from 3 to 2\n",
      "Move from 1 to 2\n",
      "Move from 3 to 1\n",
      "Move from 2 to 3\n",
      "Move from 2 to 1\n",
      "Move from 3 to 1\n",
      "Move from 3 to 2\n",
      "Move from 1 to 2\n",
      "Move from 1 to 3\n",
      "Move from 2 to 3\n",
      "Move from 1 to 2\n",
      "Move from 3 to 1\n",
      "Move from 3 to 2\n",
      "Move from 1 to 2\n",
      "Move from 1 to 3\n",
      "Move from 2 to 3\n",
      "Move from 2 to 1\n",
      "Move from 3 to 1\n",
      "Move from 2 to 3\n",
      "Move from 1 to 2\n",
      "Move from 1 to 3\n",
      "Move from 2 to 3\n",
      "Move from 2 to 1\n",
      "Move from 3 to 1\n",
      "Move from 3 to 2\n",
      "Move from 1 to 2\n",
      "Move from 3 to 1\n",
      "Move from 2 to 3\n",
      "Move from 2 to 1\n",
      "Move from 3 to 1\n",
      "Move from 2 to 3\n",
      "Move from 1 to 2\n",
      "Move from 1 to 3\n",
      "Move from 2 to 3\n",
      "Move from 1 to 2\n",
      "Move from 3 to 1\n",
      "Move from 3 to 2\n",
      "Move from 1 to 2\n",
      "Move from 1 to 3\n",
      "Move from 2 to 3\n",
      "Move from 2 to 1\n",
      "Move from 3 to 1\n",
      "Move from 2 to 3\n",
      "Move from 1 to 2\n",
      "Move from 1 to 3\n",
      "Move from 2 to 3\n"
     ]
    }
   ],
   "source": [
    "rods = {1 : stack([]), 2 : stack([]), 3 : stack([])}\n",
    "def func(input):\n",
    "    rods[1] = stack(input)\n",
    "    solve(len(rods[1].stack), 1, 3)\n",
    "def solve(n, i, k):\n",
    "    if n == 1:\n",
    "        print(f\"Move from {i} to {k}\")\n",
    "        rods[k].append(rods[i].pop())\n",
    "    else:\n",
    "        solve(n - 1, i, 6 - i - k)\n",
    "        print(f\"Move from {i} to {k}\")\n",
    "        rods[k].append(rods[i].pop())\n",
    "        solve(n - 1, 6 - i - k, k)\n",
    "try:\n",
    "    with open(\"task3.txt\", \"r\", encoding = \"utf-8\") as file:\n",
    "        line = file.readline()\n",
    "        func(line.split(\" \"))\n",
    "except FileNotFoundError:\n",
    "    print(\"No File\")\n",
    "try:\n",
    "    with open(\"out3.txt\", \"w\", encoding = \"utf-8\") as file:\n",
    "        file.write(\" \".join(rods[3].stack))\n",
    "except:\n",
    "    print(\"Error\")"
   ]
  },
  {
   "attachments": {
    "image-2.png": {
     "image/png": "[encoded data removed]"
    },
    "image.png": {
     "image/png": "[encoded data removed]"
    }
   },
   "cell_type": "markdown",
   "id": "e5b0be17",
   "metadata": {},
   "source": [
    "![image.png](attachment:image.png)\n",
    "### Задание №4\n",
    "Дан текстовый файл с программой на алгоритмическом языке. За один просмотр файла проверить баланс круглых скобок в тексте, используя стек.\n",
    "![image-2.png](attachment:image-2.png)"
   ]
  },
  {
   "cell_type": "code",
   "execution_count": 72,
   "id": "5b1df60a",
   "metadata": {},
   "outputs": [],
   "source": [
    "def func(): \n",
    "    try:\n",
    "        with open(\"task4.txt\", \"r\", encoding = \"utf-8\") as file:\n",
    "            st = stack()\n",
    "            for line in file:\n",
    "                for el in line:\n",
    "                    if el == '(':\n",
    "                        st.append(el)\n",
    "                    elif el == ')':\n",
    "                        if st.is_empty():\n",
    "                            return False\n",
    "                        else:\n",
    "                            st.pop()\n",
    "    except FileNotFoundError:\n",
    "        print(\"No File\")\n",
    "    return True if st.is_empty() else False\n",
    "\n",
    "try:\n",
    "    with open(\"out4.txt\", \"w\", encoding = \"utf-8\") as file:\n",
    "        file.write(str(func()))\n",
    "except:\n",
    "    (\"Error\")"
   ]
  },
  {
   "attachments": {
    "image.png": {
     "image/png": "[encoded data removed]"
    }
   },
   "cell_type": "markdown",
   "id": "c44cdd6b",
   "metadata": {},
   "source": [
    "![image.png](attachment:image.png)\n",
    "### Задание №5\n",
    "Дан текстовый файл с программой на алгоритмическом языке. За один просмотр файла проверить баланс квадратных скобок в тексте, используя дек."
   ]
  },
  {
   "cell_type": "code",
   "execution_count": 73,
   "id": "36b8f400",
   "metadata": {},
   "outputs": [],
   "source": [
    "def func(): \n",
    "    try:\n",
    "        with open(\"task4.txt\", \"r\", encoding = \"utf-8\") as file:\n",
    "            deq = deque()\n",
    "            for line in file:\n",
    "                for el in line:\n",
    "                    if el == '[':\n",
    "                        deq.append_r(el)\n",
    "                    elif el == ']':\n",
    "                        if deq.is_empty():\n",
    "                            return False\n",
    "                        else:\n",
    "                            deq.pop_r()\n",
    "    except FileNotFoundError:\n",
    "        print(\"No File\")\n",
    "    return True if deq.is_empty() else False\n",
    "\n",
    "try:\n",
    "    with open(\"out5.txt\", \"w\", encoding = \"utf-8\") as file:\n",
    "        file.write(str(func()))\n",
    "except:\n",
    "    print(\"Error\")"
   ]
  },
  {
   "attachments": {
    "image-2.png": {
     "image/png": "[encoded data removed]"
    },
    "image.png": {
     "image/png": "[encoded data removed]"
    }
   },
   "cell_type": "markdown",
   "id": "59d13dc7",
   "metadata": {},
   "source": [
    "![image.png](attachment:image.png)\n",
    "### Задание №6\n",
    "Дан файл из символов. Используя стек, за один просмотр файла напечатать сначала все цифры, затем все буквы, и, наконец, все остальные символы, сохраняя исходный порядок в каждой группе символов.\n",
    "![image-2.png](attachment:image-2.png)"
   ]
  },
  {
   "cell_type": "code",
   "execution_count": 74,
   "id": "297e36c2",
   "metadata": {},
   "outputs": [],
   "source": [
    "try:\n",
    "    with open(\"task6.txt\", \"r\", encoding = \"utf-8\") as file:\n",
    "        numbers = stack()\n",
    "        letters = stack()\n",
    "        others = stack()\n",
    "        for line in file:\n",
    "            for el in line:\n",
    "                if el.isdigit():\n",
    "                    numbers.append(el)\n",
    "                elif el.isalpha():\n",
    "                    letters.append(el)\n",
    "                else:\n",
    "                    others.append(el)\n",
    "except FileNotFoundError:\n",
    "    print(\"No File\")\n",
    "try:\n",
    "    temp1 = \"\"\n",
    "    temp2 = \"\"\n",
    "    temp3 = \"\" \n",
    "    while numbers.is_empty() is False:\n",
    "            temp1 += numbers.pop()\n",
    "    while letters.is_empty() is False:\n",
    "            temp2 += letters.pop()\n",
    "    while others.is_empty() is False:\n",
    "            temp3 += others.pop()\n",
    "            \n",
    "    with open(\"out6.txt\", \"w\", encoding = \"utf-8\") as file:\n",
    "        file.write(temp1[::-1] + temp2[::-1] + temp3[::-1])\n",
    "except:\n",
    "    print(\"Error\")"
   ]
  },
  {
   "attachments": {
    "image-3.png": {
     "image/png": "[encoded data removed]"
    },
    "image.png": {
     "image/png": "[encoded data removed]"
    }
   },
   "cell_type": "markdown",
   "id": "973f68bd",
   "metadata": {},
   "source": [
    "![image-3.png](attachment:image-3.png)\n",
    "### Задание №7\n",
    "Дан файл из целых чисел. Используя дек, за один просмотр файла напечатать сначала все отрицательные числа, затем все положительные числа, сохраняя исходный порядок в каждой группе.\n",
    "![image.png](attachment:image.png)"
   ]
  },
  {
   "cell_type": "code",
   "execution_count": 75,
   "id": "c56fad66",
   "metadata": {},
   "outputs": [],
   "source": [
    "try:\n",
    "    with open(\"task7.txt\", \"r\", encoding = \"utf-8\") as file:\n",
    "        deq = deque()\n",
    "        for line in file:\n",
    "            temp = line.split(\" \")\n",
    "            for el in temp:\n",
    "                if int(el) < 0:\n",
    "                    deq.append_l(int(el))\n",
    "                else:\n",
    "                    deq.append_r(int(el))\n",
    "except FileNotFoundError:\n",
    "    print(\"No File\")\n",
    "try:\n",
    "    with open(\"out7.txt\", \"w\", encoding = \"utf-8\") as file:\n",
    "        temp = \"\"\n",
    "        while deq.is_empty() is False:\n",
    "            temp += str(deq.pop_l()) + \" \"\n",
    "        file.write(temp)\n",
    "except:\n",
    "    print(\"Error\")"
   ]
  },
  {
   "attachments": {
    "image-2.png": {
     "image/png": "[encoded data removed]"
    },
    "image.png": {
     "image/png": "[encoded data removed]"
    }
   },
   "cell_type": "markdown",
   "id": "b9228191",
   "metadata": {},
   "source": [
    "![image.png](attachment:image.png)\n",
    "### Задание №8\n",
    "Дан текстовый файл. Используя стек, сформировать новый текстовый файл, содержащий строки исходного файла, записанные в обратном порядке: первая строка становится последней, вторая – предпоследней и т.д.\n",
    "![image-2.png](attachment:image-2.png)"
   ]
  },
  {
   "cell_type": "code",
   "execution_count": 76,
   "id": "981fbdfe",
   "metadata": {},
   "outputs": [],
   "source": [
    "try:\n",
    "    with open(\"task8.txt\", \"r\", encoding = \"utf-8\") as file:\n",
    "        st = stack()\n",
    "        for line in file:\n",
    "            st.append(line)\n",
    "        if st.is_empty() is False:\n",
    "            temp = st.pop()\n",
    "            temp += \"\\n\"\n",
    "            st.append(temp)\n",
    "except FileNotFoundError:\n",
    "    print(\"No File\")\n",
    "try:\n",
    "    with open(\"out8.txt\", \"w\", encoding = \"utf-8\") as file:\n",
    "        while st.is_empty() is False:\n",
    "            file.write(st.pop())\n",
    "except:\n",
    "    print(\"Error\")"
   ]
  },
  {
   "attachments": {
    "image.png": {
     "image/png": "[encoded data removed]"
    }
   },
   "cell_type": "markdown",
   "id": "rental-jerusalem",
   "metadata": {},
   "source": [
    "![image.png](attachment:image.png)\n",
    "### Вывод\n"
   ]
  },
  {
   "cell_type": "markdown",
   "id": "0c2b8899",
   "metadata": {},
   "source": []
  }
 ],
 "metadata": {
  "kernelspec": {
   "display_name": "Python 3 (ipykernel)",
   "language": "python",
   "name": "python3"
  },
  "language_info": {
   "codemirror_mode": {
    "name": "ipython",
    "version": 3
   },
   "file_extension": ".py",
   "mimetype": "text/x-python",
   "name": "python",
   "nbconvert_exporter": "python",
   "pygments_lexer": "ipython3",
   "version": "3.9.7"
  }
 },
 "nbformat": 4,
 "nbformat_minor": 5
}
