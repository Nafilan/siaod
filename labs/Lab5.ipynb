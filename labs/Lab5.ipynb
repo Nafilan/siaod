{
 "cells": [
  {
   "cell_type": "markdown",
   "metadata": {
    "id": "WPvB9TcMmKA6"
   },
   "source": [
    "# Лабораторная работа №5\n",
    "# Рекурсия. Фракталы."
   ]
  },
  {
   "cell_type": "markdown",
   "metadata": {
    "id": "96Gi_LEvmSVH"
   },
   "source": [
    "## Выполнил студент группы БВТ2005 Лесных Михаил Андреевич \n",
    "***"
   ]
  },
  {
   "cell_type": "markdown",
   "metadata": {
    "id": "4clYOyb0mbEv"
   },
   "source": [
    "### Задание:\n",
    "Реализовать генерацию заданного типа фрактала с применением рекурсивных функций.\n",
    "\n",
    "\n",
    "Добавить возможность задания глубины фрактала. \n",
    "\n",
    "\n",
    "Оценить глубину рекурсии. \n",
    "\n",
    "\n",
    "Построить таблицу зависимости времени построения от глубины фрактала."
   ]
  },
  {
   "cell_type": "markdown",
   "metadata": {
    "id": "wDXHbUmMmhRL"
   },
   "source": [
    "### Список фракталов:\n",
    "\n",
    "Кривая Коха\n",
    "| Кривая Гильберта\n",
    "| Кривая Серпинского\n",
    "| Салфетка Серпинского\n",
    "| Ковер Серпинского\n",
    "| Дерево Пифагора "
   ]
  },
  {
   "cell_type": "markdown",
   "metadata": {
    "id": "Wggfn8l7nG72"
   },
   "source": [
    "### Выполнение:"
   ]
  },
  {
   "cell_type": "code",
   "execution_count": 1,
   "metadata": {},
   "outputs": [],
   "source": [
    "import turtle\n",
    "import time\n",
    "from collections import defaultdict\n",
    "\n",
    "def tsetup():\n",
    "    window = turtle.Screen()\n",
    "    window.setup(1920, 1080)\n",
    "    window.title(\"Фракталы\")\n",
    "    window.tracer(\"0\")\n",
    "    turtle.reset()\n",
    "    turtle.setpos(0, -450) # для каждого отделный исходный старт\n",
    "    turtle.hideturtle()\n",
    "    turtle.clear()\n",
    "    return window\n",
    "    \n",
    "def tclose(window):\n",
    "    window.update()\n",
    "    window.mainloop()\n",
    "    \n",
    "def testing(frac_func, depth_min, depth_max):\n",
    "    test_num = 1\n",
    "    print(\"Таблица тестов:\\nTest№ Depth Time\")\n",
    "    for i in range(depth_min, depth_max + 1):\n",
    "        tstart = time.time()\n",
    "        frac_func(i)\n",
    "        tend = time.time() - tstart\n",
    "        print(f\"{test_num}     {i}     {tend}\")\n",
    "        test_num += 1\n",
    "\n",
    "def lsystem(axiom, rules, depth):\n",
    "    for i in range(depth):\n",
    "        temp = \"\"\n",
    "        for char in axiom:\n",
    "            temp += rules[char]\n",
    "        axiom = temp\n",
    "    return axiom"
   ]
  },
  {
   "cell_type": "code",
   "execution_count": 36,
   "metadata": {},
   "outputs": [
    {
     "name": "stdout",
     "output_type": "stream",
     "text": [
      "Глубина: 5\n",
      "Таблица тестов:\n",
      "Test№ Depth Time\n",
      "1     0     0.0\n",
      "2     1     0.0\n",
      "3     2     0.0\n",
      "4     3     0.0\n",
      "5     4     0.0\n",
      "6     5     0.0\n",
      "7     6     0.0019989013671875\n",
      "8     7     0.0049974918365478516\n",
      "9     8     0.014991044998168945\n",
      "10     9     0.05696821212768555\n"
     ]
    }
   ],
   "source": [
    "# Кривая Коха\n",
    "# turtle.setpos(-950, -450)\n",
    "\n",
    "def lsystem_koch_curve(depth):\n",
    "    rules = defaultdict()\n",
    "    rules['F'] = \"F-F++F-F\"\n",
    "    rules['+'] = '+'\n",
    "    rules['-'] = '-'\n",
    "    return lsystem('F', rules, depth)\n",
    "\n",
    "def __koch_curve(length, depth):\n",
    "    axiom = lsystem_koch_curve(depth)\n",
    "    for char in axiom:\n",
    "        if char == 'F':\n",
    "            turtle.forward(length)\n",
    "        elif char == '+':\n",
    "            turtle.right(40)\n",
    "        else:\n",
    "            turtle.left(40)\n",
    "\n",
    "def koch_curve(length, depth):\n",
    "    try:\n",
    "        window = tsetup()\n",
    "        __koch_curve(length, depth)\n",
    "        tclose(window)\n",
    "    except:\n",
    "        window = tsetup()  \n",
    "        __koch_curve(length, depth)\n",
    "        tclose(window)\n",
    "\n",
    "print(\"Глубина: \", end = '')\n",
    "depth = int(input())\n",
    "koch_curve(2, depth)\n",
    "testing(lsystem_koch_curve, 0, 9)"
   ]
  },
  {
   "cell_type": "code",
   "execution_count": 26,
   "metadata": {},
   "outputs": [
    {
     "name": "stdout",
     "output_type": "stream",
     "text": [
      "Глубина: 5\n",
      "Таблица тестов:\n",
      "Test№ Depth Time\n",
      "1     0     0.0\n",
      "2     1     0.0\n",
      "3     2     0.0\n",
      "4     3     0.0\n",
      "5     4     0.0\n",
      "6     5     0.0\n",
      "7     6     0.0019991397857666016\n",
      "8     7     0.008994102478027344\n"
     ]
    }
   ],
   "source": [
    "# Кривая Гильберта\n",
    "# turtle.setpos(-950, -450)\n",
    "\n",
    "def lsystem_hilbert_curve(depth):\n",
    "    rules = defaultdict()\n",
    "    rules['F'] = 'F'\n",
    "    rules['+'] = '+'\n",
    "    rules['-'] = '-'\n",
    "    rules['A'] = \"+BF-AFA-FB+\"\n",
    "    rules['B'] = \"-AF+BFB+FA-\"\n",
    "    return lsystem('A', rules, depth)\n",
    "\n",
    "def __hilbert_curve(length, depth):\n",
    "    axiom = lsystem_hilbert_curve(depth)\n",
    "    for char in axiom:\n",
    "        if char == 'F':\n",
    "            turtle.forward(length)\n",
    "        elif char == '+':\n",
    "            turtle.left(90)\n",
    "        elif char == '-':\n",
    "            turtle.right(90)\n",
    "\n",
    "def hilbert_curve(length, depth):\n",
    "    try:\n",
    "        window = tsetup()\n",
    "        __hilbert_curve(length, depth)\n",
    "        tclose(window)\n",
    "    except:\n",
    "        window = tsetup()\n",
    "        __hilbert_curve(length, depth)\n",
    "        tclose(window)\n",
    "\n",
    "print(\"Глубина: \", end = '')\n",
    "depth = int(input())\n",
    "hilbert_curve(5, depth)\n",
    "testing(lsystem_hilbert_curve, 0, 7)"
   ]
  },
  {
   "cell_type": "code",
   "execution_count": 30,
   "metadata": {},
   "outputs": [
    {
     "name": "stdout",
     "output_type": "stream",
     "text": [
      "Глубина: 5\n",
      "Таблица тестов:\n",
      "Test№ Depth Time\n",
      "1     0     0.0\n",
      "2     1     0.0\n",
      "3     2     0.0\n",
      "4     3     0.0\n",
      "5     4     0.0010006427764892578\n",
      "6     5     0.0019981861114501953\n",
      "7     6     0.007995128631591797\n",
      "8     7     0.01898813247680664\n"
     ]
    }
   ],
   "source": [
    "# Кривая Серпинского\n",
    "# turtle.setpos(0, 450)\n",
    "\n",
    "def lsystem_serpinski_curve(depth):\n",
    "    rules = defaultdict()\n",
    "    rules['+'] = '+'\n",
    "    rules['-'] = '-'\n",
    "    rules['F'] = 'F'\n",
    "    rules['G'] = 'G'\n",
    "    rules['X'] = \"XF+G+XF--F--XF+G+X\"\n",
    "    return lsystem(\"F--XF--F--XF\", rules, depth)\n",
    "\n",
    "def __serpinski_curve(length, depth):\n",
    "    axiom = lsystem_serpinski_curve(depth)\n",
    "    for char in axiom:\n",
    "        if char == 'F' or char == 'G':\n",
    "            turtle.forward(length)\n",
    "        elif char == '+':\n",
    "            turtle.left(45)\n",
    "        elif char == '-':\n",
    "            turtle.right(45)\n",
    "\n",
    "def serpinski_curve(length, depth):\n",
    "    try:\n",
    "        window = tsetup()\n",
    "        __serpinski_curve(length, depth)\n",
    "        tclose(window)\n",
    "    except:\n",
    "        window = tsetup()\n",
    "        __serpinski_curve(length, depth)\n",
    "        tclose(window)\n",
    "\n",
    "print(\"Глубина: \", end = '')\n",
    "depth = int(input())\n",
    "serpinski_curve(5, depth)\n",
    "testing(lsystem_serpinski_curve, 0, 7)"
   ]
  },
  {
   "cell_type": "code",
   "execution_count": 32,
   "metadata": {},
   "outputs": [
    {
     "name": "stdout",
     "output_type": "stream",
     "text": [
      "Глубина: 5\n",
      "Таблица тестов:\n",
      "Test№ Depth Time\n",
      "1     0     0.0\n",
      "2     1     0.0\n",
      "3     2     0.0\n",
      "4     3     0.0\n",
      "5     4     0.0\n",
      "6     5     0.0\n",
      "7     6     0.0\n",
      "8     7     0.0009987354278564453\n"
     ]
    }
   ],
   "source": [
    "# Салфетка Серпинского\n",
    "# turtle.setpos(0, 450)\n",
    "\n",
    "def lsystem_serpinski_triangle(depth):\n",
    "    rules = defaultdict()\n",
    "    rules['+'] = '+'\n",
    "    rules['-'] = '-'\n",
    "    rules['A'] = \"B-A-B\"\n",
    "    rules['B'] = \"A+B+A\"\n",
    "    return lsystem('A', rules, depth)\n",
    "\n",
    "def __serpinski_triangle(length, depth):\n",
    "    axiom = lsystem_serpinski_triangle(depth)\n",
    "    for char in axiom:\n",
    "        if char == 'A' or char == 'B':\n",
    "            turtle.forward(length)\n",
    "        elif char == '+':\n",
    "            turtle.left(60)\n",
    "        elif char == '-':\n",
    "            turtle.right(60)\n",
    "\n",
    "def serpinski_triangle(length, depth):\n",
    "    try:\n",
    "        window = tsetup()\n",
    "        __serpinski_triangle(length, depth)\n",
    "        tclose(window)\n",
    "    except:\n",
    "        window = tsetup()\n",
    "        __serpinski_triangle(length, depth)\n",
    "        tclose(window)\n",
    "\n",
    "print(\"Глубина: \", end = '')\n",
    "depth = int(input())\n",
    "serpinski_triangle(5, depth)\n",
    "testing(lsystem_serpinski_triangle, 0, 7)"
   ]
  },
  {
   "cell_type": "code",
   "execution_count": 33,
   "metadata": {},
   "outputs": [
    {
     "name": "stdout",
     "output_type": "stream",
     "text": [
      "Глубина: 5\n",
      "Таблица тестов:\n",
      "Test№ Depth Time\n",
      "1     0     0.0\n",
      "2     1     0.0\n",
      "3     2     0.0\n",
      "4     3     0.0\n",
      "5     4     0.0009992122650146484\n",
      "6     5     0.006993532180786133\n",
      "7     6     0.039977312088012695\n",
      "8     7     1.0364067554473877\n"
     ]
    }
   ],
   "source": [
    "# Ковер Серпинского \n",
    "# turtle.setpos(-950, 0)\n",
    "\n",
    "def lsystem_serpinski_carpet(depth):\n",
    "    rules = defaultdict()\n",
    "    rules['+'] = '+'\n",
    "    rules['-'] = '-'\n",
    "    rules['F'] = \"F+F-F-F-G+F+F+F-F\"\n",
    "    rules['G'] = \"GGG\"\n",
    "    return lsystem('F', rules, depth)\n",
    "\n",
    "def __serpinski_carpet(length, depth):\n",
    "    axiom = lsystem_serpinski_carpet(depth)\n",
    "    for char in axiom:\n",
    "        if char == 'F':\n",
    "            turtle.forward(length)\n",
    "        elif char == 'G':\n",
    "            turtle.penup()\n",
    "            turtle.forward(length)\n",
    "            turtle.pendown()\n",
    "        elif char == '+':\n",
    "            turtle.right(90)\n",
    "        elif char == '-':\n",
    "            turtle.left(90)\n",
    "\n",
    "def serpinski_carpet(length, depth):\n",
    "    try:\n",
    "        window = tsetup()\n",
    "        __serpinski_carpet(length, depth)\n",
    "        tclose(window)\n",
    "    except:\n",
    "        window = tsetup()\n",
    "        __serpinski_carpet(length, depth)\n",
    "        tclose(window)\n",
    "\n",
    "print(\"Глубина: \", end = '')\n",
    "depth = int(input())\n",
    "serpinski_carpet(5, depth)\n",
    "testing(lsystem_serpinski_carpet, 0, 7)"
   ]
  },
  {
   "cell_type": "code",
   "execution_count": null,
   "metadata": {},
   "outputs": [
    {
     "name": "stdout",
     "output_type": "stream",
     "text": [
      "Глубина: 7\n",
      "Таблица тестов:\n",
      "Test№ Depth Time\n",
      "1     0     0.0\n",
      "2     1     0.0\n",
      "3     2     0.0\n",
      "4     3     0.0\n",
      "5     4     0.0\n",
      "6     5     0.0\n",
      "7     6     0.0\n",
      "8     7     0.0\n",
      "9     8     0.0\n",
      "10     9     0.0010094642639160156\n",
      "11     10     0.001989126205444336\n",
      "12     11     0.004996538162231445\n",
      "13     12     0.0059969425201416016\n",
      "14     13     0.011992216110229492\n",
      "15     14     0.025985002517700195\n",
      "16     15     0.05097079277038574\n",
      "17     16     0.10494041442871094\n",
      "18     17     0.26584887504577637\n",
      "19     18     0.8015596866607666\n",
      "20     19     2.846353769302368\n",
      "21     20     10.855794668197632\n"
     ]
    }
   ],
   "source": [
    "# Дерево Пифагора\n",
    "# turtle.setpos(0, -450)\n",
    "\n",
    "def lsystem_pythagoras_tree(depth):\n",
    "    rules = defaultdict()\n",
    "    rules['+'] = '+'\n",
    "    rules['-'] = '-'\n",
    "    rules['['] = '['\n",
    "    rules[']'] = ']'\n",
    "    rules['1'] = \"11\"\n",
    "    rules['0'] = \"1[0]0\"\n",
    "    return lsystem('0', rules, depth)\n",
    "\n",
    "def __pythagoras_tree(length, depth):\n",
    "    axiom = lsystem_pythagoras_tree(depth)\n",
    "    turtle.left(90)\n",
    "    stack = []\n",
    "    for char in axiom:\n",
    "        if char == '0' or char == '1':\n",
    "            turtle.forward(length)\n",
    "        elif char == '[':\n",
    "            stack.append(turtle.heading())\n",
    "            stack.append(turtle.pos())\n",
    "            turtle.left(45)\n",
    "        elif char == ']':\n",
    "            pos = stack.pop()\n",
    "            turtle.penup()\n",
    "            turtle.setpos(pos[0], pos[1])\n",
    "            turtle.pendown()\n",
    "            turtle.setheading(stack.pop())\n",
    "            turtle.right(45)\n",
    "\n",
    "def pythagoras_tree(length, depth):\n",
    "    try:\n",
    "        window = tsetup()\n",
    "        __pythagoras_tree(length, depth)\n",
    "        tclose(window)\n",
    "    except:\n",
    "        window = tsetup()\n",
    "        __pythagoras_tree(length, depth)\n",
    "        tclose(window)\n",
    "\n",
    "print(\"Глубина: \", end = '')\n",
    "depth = int(input())\n",
    "pythagoras_tree(2, depth)\n",
    "testing(lsystem_pythagoras_tree, 0, 23)"
   ]
  },
  {
   "cell_type": "markdown",
   "metadata": {
    "id": "diOb-K7LnO5a"
   },
   "source": [
    "###### Вывод\n"
   ]
  },
  {
   "cell_type": "code",
   "execution_count": null,
   "metadata": {},
   "outputs": [],
   "source": []
  }
 ],
 "metadata": {
  "colab": {
   "collapsed_sections": [],
   "name": "Lab5.ipynb",
   "provenance": []
  },
  "kernelspec": {
   "display_name": "Python 3 (ipykernel)",
   "language": "python",
   "name": "python3"
  },
  "language_info": {
   "codemirror_mode": {
    "name": "ipython",
    "version": 3
   },
   "file_extension": ".py",
   "mimetype": "text/x-python",
   "name": "python",
   "nbconvert_exporter": "python",
   "pygments_lexer": "ipython3",
   "version": "3.9.7"
  }
 },
 "nbformat": 4,
 "nbformat_minor": 1
}
